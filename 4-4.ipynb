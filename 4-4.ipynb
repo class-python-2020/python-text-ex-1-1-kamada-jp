{
 "metadata": {
  "language_info": {
   "codemirror_mode": {
    "name": "ipython",
    "version": 3
   },
   "file_extension": ".py",
   "mimetype": "text/x-python",
   "name": "python",
   "nbconvert_exporter": "python",
   "pygments_lexer": "ipython3",
   "version": 3
  },
  "orig_nbformat": 2,
  "kernelspec": {
   "name": "python_defaultSpec_1595999833123",
   "display_name": "Python 3.8.2 32-bit"
  }
 },
 "nbformat": 4,
 "nbformat_minor": 2,
 "cells": [
  {
   "cell_type": "code",
   "execution_count": 2,
   "metadata": {
    "tags": []
   },
   "outputs": [
    {
     "output_type": "stream",
     "name": "stdout",
     "text": "animal: cat\nanimal in my_func: cat\n"
    },
    {
     "output_type": "error",
     "ename": "NameError",
     "evalue": "name 'vegetable' is not defined",
     "traceback": [
      "\u001b[1;31m---------------------------------------------------------------------------\u001b[0m",
      "\u001b[1;31mNameError\u001b[0m                                 Traceback (most recent call last)",
      "\u001b[1;32m<ipython-input-2-23bef97fd041>\u001b[0m in \u001b[0;36m<module>\u001b[1;34m\u001b[0m\n\u001b[0;32m     12\u001b[0m     \u001b[0mprint\u001b[0m\u001b[1;33m(\u001b[0m\u001b[1;34m\"vegetable in_the_func:\"\u001b[0m\u001b[1;33m,\u001b[0m\u001b[0mvegetable\u001b[0m\u001b[1;33m)\u001b[0m\u001b[1;33m\u001b[0m\u001b[1;33m\u001b[0m\u001b[0m\n\u001b[0;32m     13\u001b[0m \u001b[1;33m\u001b[0m\u001b[0m\n\u001b[1;32m---> 14\u001b[1;33m \u001b[0mmy_func\u001b[0m\u001b[1;33m(\u001b[0m\u001b[1;33m)\u001b[0m\u001b[1;33m\u001b[0m\u001b[1;33m\u001b[0m\u001b[0m\n\u001b[0m",
      "\u001b[1;32m<ipython-input-2-23bef97fd041>\u001b[0m in \u001b[0;36mmy_func\u001b[1;34m()\u001b[0m\n\u001b[0;32m     10\u001b[0m     \u001b[0mprint\u001b[0m\u001b[1;33m(\u001b[0m\u001b[1;34m\"animal in my_func:\"\u001b[0m\u001b[1;33m,\u001b[0m\u001b[0manimal\u001b[0m\u001b[1;33m)\u001b[0m\u001b[1;33m\u001b[0m\u001b[1;33m\u001b[0m\u001b[0m\n\u001b[0;32m     11\u001b[0m     \u001b[1;31m#ローカルの変数の値をプリントします\u001b[0m\u001b[1;33m\u001b[0m\u001b[1;33m\u001b[0m\u001b[1;33m\u001b[0m\u001b[0m\n\u001b[1;32m---> 12\u001b[1;33m     \u001b[0mprint\u001b[0m\u001b[1;33m(\u001b[0m\u001b[1;34m\"vegetable in_the_func:\"\u001b[0m\u001b[1;33m,\u001b[0m\u001b[0mvegetable\u001b[0m\u001b[1;33m)\u001b[0m\u001b[1;33m\u001b[0m\u001b[1;33m\u001b[0m\u001b[0m\n\u001b[0m\u001b[0;32m     13\u001b[0m \u001b[1;33m\u001b[0m\u001b[0m\n\u001b[0;32m     14\u001b[0m \u001b[0mmy_func\u001b[0m\u001b[1;33m(\u001b[0m\u001b[1;33m)\u001b[0m\u001b[1;33m\u001b[0m\u001b[1;33m\u001b[0m\u001b[0m\n",
      "\u001b[1;31mNameError\u001b[0m: name 'vegetable' is not defined"
     ]
    }
   ],
   "source": [
    "#グローバル変数を定義します\n",
    "animal = 'cat'\n",
    "#グローバル変数をプリントします\n",
    "print(\"animal:\",animal)\n",
    "\n",
    "def my_func():\n",
    "    #ローカル変数を定義します\n",
    "    vagetable = 'carrot'\n",
    "    #関数の中でグローバル変数の値をプリントします\n",
    "    print(\"animal in my_func:\",animal)\n",
    "    #ローカルの変数の値をプリントします\n",
    "    print(\"vegetable in_the_func:\",vegetable)\n",
    "\n",
    "my_func()"
   ]
  },
  {
   "cell_type": "code",
   "execution_count": 3,
   "metadata": {},
   "outputs": [
    {
     "output_type": "error",
     "ename": "NameError",
     "evalue": "name 'vegetable' is not defined",
     "traceback": [
      "\u001b[1;31m---------------------------------------------------------------------------\u001b[0m",
      "\u001b[1;31mNameError\u001b[0m                                 Traceback (most recent call last)",
      "\u001b[1;32m<ipython-input-3-e59602755aa6>\u001b[0m in \u001b[0;36m<module>\u001b[1;34m\u001b[0m\n\u001b[1;32m----> 1\u001b[1;33m \u001b[0mprint\u001b[0m\u001b[1;33m(\u001b[0m\u001b[1;34m\"vegetable:\"\u001b[0m\u001b[1;33m,\u001b[0m\u001b[0mvegetable\u001b[0m\u001b[1;33m)\u001b[0m\u001b[1;33m\u001b[0m\u001b[1;33m\u001b[0m\u001b[0m\n\u001b[0m",
      "\u001b[1;31mNameError\u001b[0m: name 'vegetable' is not defined"
     ]
    }
   ],
   "source": [
    "print(\"vegetable:\",vegetable)"
   ]
  },
  {
   "cell_type": "code",
   "execution_count": 4,
   "metadata": {
    "tags": []
   },
   "outputs": [
    {
     "output_type": "stream",
     "name": "stdout",
     "text": "animal: cat\nanimal global after my_func: cat\n"
    }
   ],
   "source": [
    "animal = 'cat'\n",
    "print(\"animal:\",animal)\n",
    "\n",
    "def my_func():\n",
    "    animal = 'dog'\n",
    "    print(\"animal in my_func:\",animal)\n",
    "\n",
    "my_func\n",
    "\n",
    "print(\"animal global after my_func:\",animal)"
   ]
  },
  {
   "cell_type": "code",
   "execution_count": 5,
   "metadata": {
    "tags": []
   },
   "outputs": [
    {
     "output_type": "stream",
     "name": "stdout",
     "text": "animal: cat\nanimal in my_func_alter: dog\nanimal global after my_func_alter: dog\n"
    }
   ],
   "source": [
    "animal = 'cat'\n",
    "print(\"animal:\",animal)\n",
    "\n",
    "def my_func_alter():\n",
    "    global animal\n",
    "    animal = 'dog'\n",
    "    print(\"animal in my_func_alter:\",animal)\n",
    "\n",
    "my_func_alter()\n",
    "\n",
    "print(\"animal global after my_func_alter:\",animal)"
   ]
  },
  {
   "cell_type": "code",
   "execution_count": 10,
   "metadata": {},
   "outputs": [],
   "source": [
    "vote_num=0\n",
    "def vote():\n",
    "    print(\"投票します\")\n",
    "    global vote_num\n",
    "    vote_num += 1\n",
    "\n",
    "def reset_vote():\n",
    "    global vote_num\n",
    "    print(\"箱を空にします\")\n",
    "    vote_num = 0\n",
    "\n",
    "def check_vote():\n",
    "    global vote_num\n",
    "    print(\"票の数は{}です\".format(vote_num))"
   ]
  },
  {
   "cell_type": "code",
   "execution_count": 11,
   "metadata": {
    "tags": []
   },
   "outputs": [
    {
     "output_type": "stream",
     "name": "stdout",
     "text": "投票します\n票の数は1です\n投票します\n票の数は2です\n投票します\n投票します\n投票します\n票の数は5です\n箱を空にします\n票の数は0です\n"
    }
   ],
   "source": [
    "#実行例\n",
    "vote()\n",
    "check_vote()\n",
    "vote()\n",
    "check_vote()\n",
    "for i in range(3):\n",
    "    vote()\n",
    "check_vote()\n",
    "reset_vote()\n",
    "check_vote()"
   ]
  },
  {
   "cell_type": "code",
   "execution_count": 12,
   "metadata": {},
   "outputs": [],
   "source": [
    "vote_num = 0\n",
    "\n",
    "def vote(vote_n):\n",
    "    print(\"投票します\")\n",
    "    vote_n +=1\n",
    "    return vote_n\n",
    "\n",
    "def reset_box(vote_n):\n",
    "    print(\"箱を空にします\")\n",
    "    vote_n = 0\n",
    "    return vote_n\n",
    "\n",
    "def check_box(vote_n):\n",
    "    print(\"票の数は{}です\".format(vote_n))\n",
    "    return"
   ]
  },
  {
   "cell_type": "code",
   "execution_count": 13,
   "metadata": {
    "tags": []
   },
   "outputs": [
    {
     "output_type": "stream",
     "name": "stdout",
     "text": "投票します\n票の数は1です\n投票します\n票の数は2です\n投票します\n投票します\n投票します\n票の数は5です\n箱を空にします\n票の数は0です\n"
    }
   ],
   "source": [
    "#実行例\n",
    "vote_num = vote(vote_num)\n",
    "check_box(vote_num)\n",
    "vote_num = vote(vote_num)\n",
    "check_box(vote_num)\n",
    "for i in range(3):\n",
    "    vote_num = vote(vote_num)\n",
    "check_box(vote_num)\n",
    "vote_num = reset_box(vote_num)\n",
    "check_box(vote_num)"
   ]
  }
 ]
}